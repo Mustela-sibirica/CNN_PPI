{
 "cells": [
  {
   "cell_type": "code",
   "execution_count": null,
   "metadata": {},
   "outputs": [],
   "source": [
    "import gzip\n",
    "import re\n",
    "\n",
    "filename = r'F:\\uniprot_sprot.fasta.gz'\n",
    "fasta_gz_file = gzip.open(filename, 'r')\n",
    "human_fasta = open(r'F:\\HUMAN_uniport_sprot.fasta', 'w')\n",
    "human_fasta = open(r'F:\\HUMAN_uniport_sprot.fasta', 'a')\n",
    "line_fasta = \"\"\n",
    "for line in fasta_gz_file:\n",
    "    line_str = str(line)\n",
    "    line_str = re.sub(r'b\\'', '', line_str)\n",
    "    line_str = re.sub(r'\\\\n\\'', '', line_str)\n",
    "    if re.search('>', line_str):\n",
    "        title = line_str.split('|')[2].split(' ')\n",
    "        name = title[0]\n",
    "    if re.search('_HUMAN', name):\n",
    "        if re.search('>', line_str):\n",
    "            human_fasta.write(''.join('>' + str(name) + '\\n'))\n",
    "        else:\n",
    "            human_fasta.write(line_str + '\\n')"
   ]
  }
 ],
 "metadata": {
  "kernelspec": {
   "display_name": "keras",
   "language": "python",
   "name": "keras"
  },
  "language_info": {
   "codemirror_mode": {
    "name": "ipython",
    "version": 3
   },
   "file_extension": ".py",
   "mimetype": "text/x-python",
   "name": "python",
   "nbconvert_exporter": "python",
   "pygments_lexer": "ipython3",
   "version": "3.6.6"
  }
 },
 "nbformat": 4,
 "nbformat_minor": 2
}
