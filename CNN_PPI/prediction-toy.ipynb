{
 "cells": [
  {
   "cell_type": "markdown",
   "metadata": {},
   "source": [
    "# 加载环境"
   ]
  },
  {
   "cell_type": "code",
   "execution_count": 1,
   "metadata": {},
   "outputs": [
    {
     "name": "stderr",
     "output_type": "stream",
     "text": [
      "Using TensorFlow backend.\n"
     ]
    }
   ],
   "source": [
    "from keras.models import load_model\n",
    "import matplotlib.pyplot as plt\n",
    "import numpy as np\n",
    "from Bio import SeqIO"
   ]
  },
  {
   "cell_type": "markdown",
   "metadata": {},
   "source": [
    "# 模型载入"
   ]
  },
  {
   "cell_type": "code",
   "execution_count": 2,
   "metadata": {},
   "outputs": [],
   "source": [
    "model = load_model(r'./model/toy.h5')"
   ]
  },
  {
   "cell_type": "markdown",
   "metadata": {},
   "source": [
    "# 数据载入"
   ]
  },
  {
   "cell_type": "code",
   "execution_count": 3,
   "metadata": {},
   "outputs": [],
   "source": [
    "test_file = r'./data/test.txt'\n",
    "fasta_file = r'./data/test.fasta'"
   ]
  },
  {
   "cell_type": "markdown",
   "metadata": {},
   "source": [
    "# 超参数"
   ]
  },
  {
   "cell_type": "code",
   "execution_count": 4,
   "metadata": {},
   "outputs": [],
   "source": [
    "WINDOWS_SIZE = 256\n",
    "STEP = 128\n",
    "LENGTH = 256"
   ]
  },
  {
   "cell_type": "markdown",
   "metadata": {},
   "source": [
    "# 数据整理"
   ]
  },
  {
   "cell_type": "code",
   "execution_count": 5,
   "metadata": {},
   "outputs": [],
   "source": [
    "records = list(SeqIO.parse(fasta_file, \"fasta\"))\n",
    "names = []\n",
    "sequences = []\n",
    "for seq in records:\n",
    "    names.append(str(seq.name))\n",
    "    sequences.append(str(seq.seq))\n",
    "protein_dict = dict(zip(names,sequences))"
   ]
  },
  {
   "cell_type": "code",
   "execution_count": 6,
   "metadata": {},
   "outputs": [],
   "source": [
    "with open(test_file, 'r') as test:\n",
    "    pro_1 = []\n",
    "    pro_2 = []\n",
    "    pro_1_seq = []\n",
    "    pro_2_seq = []\n",
    "    for line in test.readlines():\n",
    "        line_list = line.strip().split(\"\\t\")\n",
    "        pro_1.append(line_list[0])\n",
    "        pro_2.append(line_list[1])\n",
    "        pro_1_seq.append(protein_dict[line_list[0]])\n",
    "        pro_2_seq.append(protein_dict[line_list[1]])"
   ]
  },
  {
   "cell_type": "code",
   "execution_count": 7,
   "metadata": {},
   "outputs": [
    {
     "data": {
      "text/plain": [
       "65"
      ]
     },
     "execution_count": 7,
     "metadata": {},
     "output_type": "execute_result"
    }
   ],
   "source": [
    "len(pro_1_seq)"
   ]
  },
  {
   "cell_type": "code",
   "execution_count": 8,
   "metadata": {},
   "outputs": [
    {
     "data": {
      "text/plain": [
       "65"
      ]
     },
     "execution_count": 8,
     "metadata": {},
     "output_type": "execute_result"
    }
   ],
   "source": [
    "len(pro_2_seq)"
   ]
  },
  {
   "cell_type": "code",
   "execution_count": 9,
   "metadata": {},
   "outputs": [],
   "source": [
    "squences_1 = []\n",
    "squences_2 = []\n",
    "random_squences_1 = []\n",
    "random_squences_2 = []\n",
    "for seq in pro_1_seq:\n",
    "    if len(seq) < LENGTH:\n",
    "        squences_1.append(\"\".join(list(seq) + (['0'] * (LENGTH - len(seq)))))\n",
    "    else:\n",
    "        squences_1.append(str(seq[0:LENGTH]))\n",
    "for seq in pro_2_seq:\n",
    "    if len(seq) < LENGTH:\n",
    "        squences_2.append(\"\".join(list(seq) + (['0'] * (LENGTH - len(seq)))))\n",
    "    else:\n",
    "        squences_2.append(str(seq[0:LENGTH]))\n",
    "pro_1_seq = squences_1\n",
    "pro_2_seq = squences_2"
   ]
  },
  {
   "cell_type": "markdown",
   "metadata": {},
   "source": [
    "# 数据合并"
   ]
  },
  {
   "cell_type": "code",
   "execution_count": 10,
   "metadata": {},
   "outputs": [],
   "source": [
    "pro_dual = []\n",
    "for i in range(len(pro_1_seq)):\n",
    "    pro_dual.append(str(pro_1_seq[i]) + '1' + str(pro_2_seq[i]))"
   ]
  },
  {
   "cell_type": "code",
   "execution_count": 11,
   "metadata": {},
   "outputs": [],
   "source": [
    "def toOneHot(base):\n",
    "    if base == \"C\":\n",
    "        base_one_hot = [1,0,0,0,0,0,0,0,0,0,0,0,0,0,0,0,0,0,0,0]\n",
    "    elif base == \"S\":\n",
    "        base_one_hot = [0,1,0,0,0,0,0,0,0,0,0,0,0,0,0,0,0,0,0,0]\n",
    "    elif base == \"T\":\n",
    "        base_one_hot = [0,0,1,0,0,0,0,0,0,0,0,0,0,0,0,0,0,0,0,0]\n",
    "    elif base == \"P\":\n",
    "        base_one_hot = [0,0,0,1,0,0,0,0,0,0,0,0,0,0,0,0,0,0,0,0]\n",
    "    elif base == \"A\":\n",
    "        base_one_hot = [0,0,0,0,1,0,0,0,0,0,0,0,0,0,0,0,0,0,0,0]\n",
    "    elif base == \"G\":\n",
    "        base_one_hot = [0,0,0,0,0,1,0,0,0,0,0,0,0,0,0,0,0,0,0,0]\n",
    "    elif base == \"N\":\n",
    "        base_one_hot = [0,0,0,0,0,0,1,0,0,0,0,0,0,0,0,0,0,0,0,0]\n",
    "    elif base == \"D\":\n",
    "        base_one_hot = [0,0,0,0,0,0,0,1,0,0,0,0,0,0,0,0,0,0,0,0]\n",
    "    elif base == \"E\":\n",
    "        base_one_hot = [0,0,0,0,0,0,0,0,1,0,0,0,0,0,0,0,0,0,0,0]\n",
    "    elif base == \"Q\":\n",
    "        base_one_hot = [0,0,0,0,0,0,0,0,0,1,0,0,0,0,0,0,0,0,0,0]\n",
    "    elif base == \"H\":\n",
    "        base_one_hot = [0,0,0,0,0,0,0,0,0,0,1,0,0,0,0,0,0,0,0,0]\n",
    "    elif base == \"R\":\n",
    "        base_one_hot = [0,0,0,0,0,0,0,0,0,0,0,1,0,0,0,0,0,0,0,0]\n",
    "    elif base == \"K\":\n",
    "        base_one_hot = [0,0,0,0,0,0,0,0,0,0,0,0,1,0,0,0,0,0,0,0]\n",
    "    elif base == \"M\":\n",
    "        base_one_hot = [0,0,0,0,0,0,0,0,0,0,0,0,0,1,0,0,0,0,0,0]\n",
    "    elif base == \"I\":\n",
    "        base_one_hot = [0,0,0,0,0,0,0,0,0,0,0,0,0,0,1,0,0,0,0,0]\n",
    "    elif base == \"L\":\n",
    "        base_one_hot = [0,0,0,0,0,0,0,0,0,0,0,0,0,0,0,1,0,0,0,0]\n",
    "    elif base == \"V\":\n",
    "        base_one_hot = [0,0,0,0,0,0,0,0,0,0,0,0,0,0,0,0,1,0,0,0]\n",
    "    elif base == \"F\":\n",
    "        base_one_hot = [0,0,0,0,0,0,0,0,0,0,0,0,0,0,0,0,0,1,0,0]\n",
    "    elif base == \"Y\":\n",
    "        base_one_hot = [0,0,0,0,0,0,0,0,0,0,0,0,0,0,0,0,0,0,1,0]\n",
    "    elif base == \"W\":\n",
    "        base_one_hot = [0,0,0,0,0,0,0,0,0,0,0,0,0,0,0,0,0,0,0,1]\n",
    "    elif base == \"1\":\n",
    "        base_one_hot = [1,1,1,1,1,1,1,1,1,1,1,1,1,1,1,1,1,1,1,1]     #分隔符   \n",
    "    else:\n",
    "        base_one_hot = [0,0,0,0,0,0,0,0,0,0,0,0,0,0,0,0,0,0,0,0]\n",
    "    return base_one_hot"
   ]
  },
  {
   "cell_type": "code",
   "execution_count": 12,
   "metadata": {},
   "outputs": [],
   "source": [
    "squence_list = []\n",
    "result_list = []\n",
    "for seq in pro_dual:\n",
    "    seq_list = list(seq)\n",
    "    for base in seq_list:\n",
    "        squence_list.append(toOneHot(base))\n",
    "    squence_array = np.array(squence_list)\n",
    "    result_list.append(np.transpose(squence_array))\n",
    "    squence_list = []\n",
    "X = np.array(result_list)"
   ]
  },
  {
   "cell_type": "code",
   "execution_count": 13,
   "metadata": {},
   "outputs": [],
   "source": [
    "X_4D=X.reshape(X.shape[0],LENGTH*2+1,20,1).astype('float32')"
   ]
  },
  {
   "cell_type": "code",
   "execution_count": 14,
   "metadata": {},
   "outputs": [],
   "source": [
    "predicted_Probaility = model.predict(X_4D)"
   ]
  },
  {
   "cell_type": "code",
   "execution_count": 15,
   "metadata": {},
   "outputs": [
    {
     "data": {
      "text/plain": [
       "array([[6.2843945e-08, 9.9999988e-01],\n",
       "       [1.3232706e-01, 8.6767292e-01],\n",
       "       [1.4069061e-01, 8.5930938e-01],\n",
       "       [9.9947172e-01, 5.2832282e-04],\n",
       "       [9.9999881e-01, 1.1819361e-06],\n",
       "       [9.9996996e-01, 3.0069526e-05],\n",
       "       [4.8092835e-02, 9.5190722e-01],\n",
       "       [1.7442338e-02, 9.8255771e-01],\n",
       "       [3.4308575e-02, 9.6569145e-01],\n",
       "       [1.0000000e+00, 9.1665633e-12],\n",
       "       [8.8931823e-01, 1.1068174e-01],\n",
       "       [5.6057461e-02, 9.4394255e-01],\n",
       "       [1.0000000e+00, 4.8583069e-12],\n",
       "       [9.9856806e-01, 1.4319452e-03],\n",
       "       [1.0000000e+00, 3.9971484e-09],\n",
       "       [2.1751144e-04, 9.9978250e-01],\n",
       "       [8.0514508e-01, 1.9485487e-01],\n",
       "       [1.4349839e-02, 9.8565012e-01],\n",
       "       [9.9012214e-01, 9.8778121e-03],\n",
       "       [9.9735439e-01, 2.6456157e-03],\n",
       "       [9.6252209e-01, 3.7477892e-02],\n",
       "       [2.1324191e-02, 9.7867578e-01],\n",
       "       [5.4180396e-01, 4.5819607e-01],\n",
       "       [5.8951050e-01, 4.1048947e-01],\n",
       "       [1.0000000e+00, 3.6417941e-08],\n",
       "       [4.1558291e-03, 9.9584419e-01],\n",
       "       [9.2390800e-01, 7.6092005e-02],\n",
       "       [9.9678151e-04, 9.9900323e-01],\n",
       "       [8.2854009e-01, 1.7145991e-01],\n",
       "       [1.8559040e-01, 8.1440961e-01],\n",
       "       [2.9538324e-01, 7.0461673e-01],\n",
       "       [7.2340304e-03, 9.9276590e-01],\n",
       "       [8.4593195e-01, 1.5406811e-01],\n",
       "       [5.7996739e-02, 9.4200331e-01],\n",
       "       [1.0000000e+00, 5.5689586e-09],\n",
       "       [9.9999881e-01, 1.2108861e-06],\n",
       "       [1.0000000e+00, 4.7313308e-12],\n",
       "       [1.0000000e+00, 1.3314548e-11],\n",
       "       [1.0000000e+00, 1.0291722e-12],\n",
       "       [1.0000000e+00, 9.6021476e-13],\n",
       "       [1.0000000e+00, 1.8340715e-12],\n",
       "       [1.0000000e+00, 2.4636158e-08],\n",
       "       [1.0000000e+00, 2.1529288e-10],\n",
       "       [1.0000000e+00, 2.6174743e-11],\n",
       "       [1.0000000e+00, 3.4772810e-14],\n",
       "       [3.6900770e-02, 9.6309924e-01],\n",
       "       [9.9819499e-01, 1.8050531e-03],\n",
       "       [9.7556996e-01, 2.4430091e-02],\n",
       "       [9.9988759e-01, 1.1234277e-04],\n",
       "       [9.9902856e-01, 9.7141182e-04],\n",
       "       [9.8526150e-01, 1.4738527e-02],\n",
       "       [2.9542139e-01, 7.0457870e-01],\n",
       "       [9.9978989e-01, 2.1017728e-04],\n",
       "       [8.5340285e-01, 1.4659712e-01],\n",
       "       [1.0000000e+00, 1.4128264e-08],\n",
       "       [1.7965515e-01, 8.2034481e-01],\n",
       "       [9.9997997e-01, 2.0000398e-05],\n",
       "       [9.9989760e-01, 1.0238193e-04],\n",
       "       [9.9999976e-01, 2.1479522e-07],\n",
       "       [9.9999964e-01, 3.1123787e-07],\n",
       "       [9.9999964e-01, 3.9085771e-07],\n",
       "       [9.9908388e-01, 9.1608195e-04],\n",
       "       [9.9999368e-01, 6.3246093e-06],\n",
       "       [9.9998319e-01, 1.6778817e-05],\n",
       "       [1.0000000e+00, 1.2463715e-10]], dtype=float32)"
      ]
     },
     "execution_count": 15,
     "metadata": {},
     "output_type": "execute_result"
    }
   ],
   "source": [
    "predicted_Probaility"
   ]
  },
  {
   "cell_type": "code",
   "execution_count": null,
   "metadata": {},
   "outputs": [],
   "source": []
  }
 ],
 "metadata": {
  "kernelspec": {
   "display_name": "keras",
   "language": "python",
   "name": "keras"
  },
  "language_info": {
   "codemirror_mode": {
    "name": "ipython",
    "version": 3
   },
   "file_extension": ".py",
   "mimetype": "text/x-python",
   "name": "python",
   "nbconvert_exporter": "python",
   "pygments_lexer": "ipython3",
   "version": "3.6.6"
  }
 },
 "nbformat": 4,
 "nbformat_minor": 2
}
