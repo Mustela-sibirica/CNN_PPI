{
 "cells": [
  {
   "cell_type": "markdown",
   "metadata": {},
   "source": [
    "# 加载环境"
   ]
  },
  {
   "cell_type": "code",
   "execution_count": 1,
   "metadata": {},
   "outputs": [
    {
     "name": "stderr",
     "output_type": "stream",
     "text": [
      "Using TensorFlow backend.\n"
     ]
    }
   ],
   "source": [
    "import matplotlib.pyplot as plt\n",
    "import numpy as np\n",
    "import pandas as pd\n",
    "from pandas import DataFrame\n",
    "\n",
    "import keras\n",
    "from keras.utils import np_utils\n",
    "from keras.layers import Input, TimeDistributed, Flatten, Dense, Dropout\n",
    "import tensorflow as tf\n",
    "import keras.backend.tensorflow_backend as KTF"
   ]
  },
  {
   "cell_type": "markdown",
   "metadata": {},
   "source": [
    "# 超参数"
   ]
  },
  {
   "cell_type": "code",
   "execution_count": 2,
   "metadata": {},
   "outputs": [],
   "source": [
    "LENGTH = 256\n",
    "LENGTH_4_model = 2*LENGTH+1\n",
    "EPOCHES = 30\n",
    "BATCH_SIZE = 300\n",
    "HIDDEN_UNITS = 1024"
   ]
  },
  {
   "cell_type": "markdown",
   "metadata": {},
   "source": [
    "# 数据载入"
   ]
  },
  {
   "cell_type": "code",
   "execution_count": 3,
   "metadata": {},
   "outputs": [],
   "source": [
    "X_train4D = np.load(r\".\\data\\X_train4D.npy\")\n",
    "X_test4D = np.load(r\".\\data\\X_test4D.npy\")\n",
    "Y_train_One_Hot = np.load(r\".\\data\\Y_train_One_Hot.npy\")\n",
    "Y_test_One_Hot = np.load(r\".\\data\\Y_test_One_Hot.npy\")"
   ]
  },
  {
   "cell_type": "markdown",
   "metadata": {},
   "source": [
    "# 建立模型"
   ]
  },
  {
   "cell_type": "code",
   "execution_count": 4,
   "metadata": {},
   "outputs": [],
   "source": [
    "from keras.models import Sequential\n",
    "from keras.layers import Dense,Dropout,Flatten,Conv2D,MaxPooling2D"
   ]
  },
  {
   "cell_type": "code",
   "execution_count": 5,
   "metadata": {},
   "outputs": [],
   "source": [
    "model = Sequential()"
   ]
  },
  {
   "cell_type": "markdown",
   "metadata": {},
   "source": [
    "## 卷积层1 (20×LENGTH 16层)"
   ]
  },
  {
   "cell_type": "code",
   "execution_count": 6,
   "metadata": {},
   "outputs": [],
   "source": [
    "model.add(Conv2D(filters=16,\n",
    "                 kernel_size=(5,5),\n",
    "                 padding='same',\n",
    "                 input_shape=(LENGTH_4_model,20,1), \n",
    "                 activation='relu'))"
   ]
  },
  {
   "cell_type": "markdown",
   "metadata": {},
   "source": [
    "## 池化层1 (20×½LENGTH 16层)"
   ]
  },
  {
   "cell_type": "code",
   "execution_count": 7,
   "metadata": {},
   "outputs": [],
   "source": [
    "model.add(MaxPooling2D(pool_size=(2, 2)))"
   ]
  },
  {
   "cell_type": "markdown",
   "metadata": {},
   "source": [
    "## 卷积层2 (10×½LENGTH 36层)"
   ]
  },
  {
   "cell_type": "code",
   "execution_count": 8,
   "metadata": {},
   "outputs": [],
   "source": [
    "model.add(Conv2D(filters=36,\n",
    "                 kernel_size=(5,5),\n",
    "                 padding='same',\n",
    "                 activation='relu'))"
   ]
  },
  {
   "cell_type": "markdown",
   "metadata": {},
   "source": [
    "## 池化层2 (10×¼LENGTH 36层)"
   ]
  },
  {
   "cell_type": "code",
   "execution_count": 9,
   "metadata": {},
   "outputs": [],
   "source": [
    "model.add(MaxPooling2D(pool_size=(2, 2)))"
   ]
  },
  {
   "cell_type": "code",
   "execution_count": 10,
   "metadata": {},
   "outputs": [],
   "source": [
    "model.add(Dropout(0.25))"
   ]
  },
  {
   "cell_type": "markdown",
   "metadata": {},
   "source": [
    "## 平坦层 (5×¼LENGTH*36个神经元)"
   ]
  },
  {
   "cell_type": "code",
   "execution_count": 11,
   "metadata": {},
   "outputs": [],
   "source": [
    "model.add(Flatten())"
   ]
  },
  {
   "cell_type": "code",
   "execution_count": 12,
   "metadata": {},
   "outputs": [],
   "source": [
    "ppi_file = r'.\\data\\HIPPIE_v2.1.tsv'\n",
    "fasta_file = r'.\\data\\HUMAN_uniport.fasta'"
   ]
  },
  {
   "cell_type": "markdown",
   "metadata": {},
   "source": [
    "## 隐藏层 (HIDDEN_LAYER_NEURONS个神经元)"
   ]
  },
  {
   "cell_type": "code",
   "execution_count": 13,
   "metadata": {},
   "outputs": [],
   "source": [
    "model.add(Dense(HIDDEN_UNITS, activation='relu'))"
   ]
  },
  {
   "cell_type": "code",
   "execution_count": 14,
   "metadata": {},
   "outputs": [],
   "source": [
    "model.add(Dropout(0.5))"
   ]
  },
  {
   "cell_type": "markdown",
   "metadata": {},
   "source": [
    "## 输出层 (2个神经元)"
   ]
  },
  {
   "cell_type": "code",
   "execution_count": 15,
   "metadata": {},
   "outputs": [],
   "source": [
    "model.add(Dense(2,activation='softmax'))"
   ]
  },
  {
   "cell_type": "code",
   "execution_count": 16,
   "metadata": {},
   "outputs": [
    {
     "name": "stdout",
     "output_type": "stream",
     "text": [
      "_________________________________________________________________\n",
      "Layer (type)                 Output Shape              Param #   \n",
      "=================================================================\n",
      "conv2d_1 (Conv2D)            (None, 513, 20, 16)       416       \n",
      "_________________________________________________________________\n",
      "max_pooling2d_1 (MaxPooling2 (None, 256, 10, 16)       0         \n",
      "_________________________________________________________________\n",
      "conv2d_2 (Conv2D)            (None, 256, 10, 36)       14436     \n",
      "_________________________________________________________________\n",
      "max_pooling2d_2 (MaxPooling2 (None, 128, 5, 36)        0         \n",
      "_________________________________________________________________\n",
      "dropout_1 (Dropout)          (None, 128, 5, 36)        0         \n",
      "_________________________________________________________________\n",
      "flatten_1 (Flatten)          (None, 23040)             0         \n",
      "_________________________________________________________________\n",
      "dense_1 (Dense)              (None, 1024)              23593984  \n",
      "_________________________________________________________________\n",
      "dropout_2 (Dropout)          (None, 1024)              0         \n",
      "_________________________________________________________________\n",
      "dense_2 (Dense)              (None, 2)                 2050      \n",
      "=================================================================\n",
      "Total params: 23,610,886\n",
      "Trainable params: 23,610,886\n",
      "Non-trainable params: 0\n",
      "_________________________________________________________________\n",
      "None\n"
     ]
    }
   ],
   "source": [
    "print(model.summary())"
   ]
  },
  {
   "cell_type": "markdown",
   "metadata": {},
   "source": [
    "# 训练模型"
   ]
  },
  {
   "cell_type": "code",
   "execution_count": 17,
   "metadata": {},
   "outputs": [],
   "source": [
    "model.compile(loss='categorical_crossentropy',\n",
    "              optimizer='adam',metrics=['accuracy']) "
   ]
  },
  {
   "cell_type": "code",
   "execution_count": 18,
   "metadata": {},
   "outputs": [
    {
     "name": "stdout",
     "output_type": "stream",
     "text": [
      "Train on 11617 samples, validate on 2905 samples\n",
      "Epoch 1/30\n",
      " - 19s - loss: 0.7845 - acc: 0.5982 - val_loss: 0.8716 - val_acc: 0.1910\n",
      "Epoch 2/30\n",
      " - 10s - loss: 0.4261 - acc: 0.8184 - val_loss: 0.6107 - val_acc: 0.7212\n",
      "Epoch 3/30\n",
      " - 10s - loss: 0.2889 - acc: 0.8868 - val_loss: 0.4496 - val_acc: 0.7955\n",
      "Epoch 4/30\n",
      " - 10s - loss: 0.2405 - acc: 0.9082 - val_loss: 0.2829 - val_acc: 0.8596\n",
      "Epoch 5/30\n",
      " - 10s - loss: 0.2050 - acc: 0.9214 - val_loss: 0.3078 - val_acc: 0.8551\n",
      "Epoch 6/30\n",
      " - 10s - loss: 0.1684 - acc: 0.9351 - val_loss: 0.2800 - val_acc: 0.8647\n",
      "Epoch 7/30\n",
      " - 10s - loss: 0.1421 - acc: 0.9439 - val_loss: 0.3345 - val_acc: 0.8554\n",
      "Epoch 8/30\n",
      " - 10s - loss: 0.1236 - acc: 0.9510 - val_loss: 0.3472 - val_acc: 0.8568\n",
      "Epoch 9/30\n",
      " - 10s - loss: 0.0988 - acc: 0.9627 - val_loss: 0.3276 - val_acc: 0.8695\n",
      "Epoch 10/30\n",
      " - 10s - loss: 0.0865 - acc: 0.9657 - val_loss: 0.2199 - val_acc: 0.9043\n",
      "Epoch 11/30\n",
      " - 10s - loss: 0.0703 - acc: 0.9734 - val_loss: 0.3394 - val_acc: 0.8744\n",
      "Epoch 12/30\n",
      " - 10s - loss: 0.0563 - acc: 0.9785 - val_loss: 0.5023 - val_acc: 0.8461\n",
      "Epoch 13/30\n",
      " - 10s - loss: 0.0497 - acc: 0.9822 - val_loss: 0.3159 - val_acc: 0.8878\n",
      "Epoch 14/30\n",
      " - 10s - loss: 0.0391 - acc: 0.9867 - val_loss: 0.2410 - val_acc: 0.9133\n",
      "Epoch 15/30\n",
      " - 11s - loss: 0.0384 - acc: 0.9878 - val_loss: 0.3772 - val_acc: 0.8850\n",
      "Epoch 16/30\n",
      " - 11s - loss: 0.0289 - acc: 0.9904 - val_loss: 0.4597 - val_acc: 0.8771\n",
      "Epoch 17/30\n",
      " - 11s - loss: 0.0264 - acc: 0.9921 - val_loss: 0.3981 - val_acc: 0.8881\n",
      "Epoch 18/30\n",
      " - 11s - loss: 0.0244 - acc: 0.9923 - val_loss: 0.3305 - val_acc: 0.9040\n",
      "Epoch 19/30\n",
      " - 11s - loss: 0.0208 - acc: 0.9929 - val_loss: 0.4734 - val_acc: 0.8819\n",
      "Epoch 20/30\n",
      " - 11s - loss: 0.0169 - acc: 0.9951 - val_loss: 0.4542 - val_acc: 0.8909\n",
      "Epoch 21/30\n",
      " - 11s - loss: 0.0160 - acc: 0.9948 - val_loss: 0.4710 - val_acc: 0.8826\n",
      "Epoch 22/30\n",
      " - 11s - loss: 0.0143 - acc: 0.9963 - val_loss: 0.5211 - val_acc: 0.8812\n",
      "Epoch 23/30\n",
      " - 11s - loss: 0.0128 - acc: 0.9960 - val_loss: 0.4911 - val_acc: 0.8799\n",
      "Epoch 24/30\n",
      " - 11s - loss: 0.0113 - acc: 0.9968 - val_loss: 0.4835 - val_acc: 0.8923\n",
      "Epoch 25/30\n",
      " - 11s - loss: 0.0113 - acc: 0.9968 - val_loss: 0.6627 - val_acc: 0.8633\n",
      "Epoch 26/30\n",
      " - 11s - loss: 0.0115 - acc: 0.9973 - val_loss: 0.3866 - val_acc: 0.9060\n",
      "Epoch 27/30\n",
      " - 11s - loss: 0.0085 - acc: 0.9975 - val_loss: 0.7268 - val_acc: 0.8713\n",
      "Epoch 28/30\n",
      " - 11s - loss: 0.0081 - acc: 0.9978 - val_loss: 0.4643 - val_acc: 0.9005\n",
      "Epoch 29/30\n",
      " - 11s - loss: 0.0099 - acc: 0.9972 - val_loss: 0.5115 - val_acc: 0.8947\n",
      "Epoch 30/30\n",
      " - 11s - loss: 0.0085 - acc: 0.9978 - val_loss: 0.4342 - val_acc: 0.9084\n"
     ]
    }
   ],
   "source": [
    "train_history=model.fit(x=X_train4D, \n",
    "                        y=Y_train_One_Hot,validation_split=0.2, \n",
    "                        epochs=EPOCHES, batch_size=BATCH_SIZE,verbose=2)"
   ]
  },
  {
   "cell_type": "code",
   "execution_count": 19,
   "metadata": {},
   "outputs": [],
   "source": [
    "def show_train_history_acc(train_acc,test_acc):\n",
    "    plt.plot(train_history.history[train_acc])\n",
    "    plt.plot(train_history.history[test_acc])\n",
    "    plt.ylim((0, 1))\n",
    "    plt.title('Train History')\n",
    "    plt.ylabel('Accuracy')\n",
    "    plt.xlabel('Epoch')\n",
    "    plt.legend(['train', 'test'], loc='upper left')\n",
    "    plt.show()\n",
    "def show_train_history_loss(train_loss,test_loss):\n",
    "    plt.plot(train_history.history[train_loss])\n",
    "    plt.plot(train_history.history[test_loss])\n",
    "    plt.ylim((0, 1))         \n",
    "    plt.title('Train History')\n",
    "    plt.ylabel('Loss')\n",
    "    plt.xlabel('Epoch')\n",
    "    plt.legend(['train', 'test'], loc='upper left')\n",
    "    plt.show()"
   ]
  },
  {
   "cell_type": "code",
   "execution_count": 20,
   "metadata": {},
   "outputs": [
    {
     "data": {
      "image/png": "[encoded data removed]",
      "text/plain": [
       "<Figure size 432x288 with 1 Axes>"
      ]
     },
     "metadata": {
      "needs_background": "light"
     },
     "output_type": "display_data"
    }
   ],
   "source": [
    "show_train_history_acc('acc','val_acc')"
   ]
  },
  {
   "cell_type": "code",
   "execution_count": 21,
   "metadata": {},
   "outputs": [
    {
     "data": {
      "image/png": "[encoded data removed]",
      "text/plain": [
       "<Figure size 432x288 with 1 Axes>"
      ]
     },
     "metadata": {
      "needs_background": "light"
     },
     "output_type": "display_data"
    }
   ],
   "source": [
    "show_train_history_loss('loss','val_loss')"
   ]
  },
  {
   "cell_type": "markdown",
   "metadata": {},
   "source": [
    "# 评估模型的准确率"
   ]
  },
  {
   "cell_type": "code",
   "execution_count": 22,
   "metadata": {},
   "outputs": [
    {
     "name": "stdout",
     "output_type": "stream",
     "text": [
      "3582/3582 [==============================] - 1s 385us/step\n"
     ]
    },
    {
     "data": {
      "text/plain": [
       "0.9380234504198642"
      ]
     },
     "execution_count": 22,
     "metadata": {},
     "output_type": "execute_result"
    }
   ],
   "source": [
    "scores = model.evaluate(X_test4D , Y_test_One_Hot)\n",
    "scores[1]"
   ]
  },
  {
   "cell_type": "code",
   "execution_count": 23,
   "metadata": {},
   "outputs": [],
   "source": [
    "prediction=model.predict_classes(X_test4D)"
   ]
  },
  {
   "cell_type": "code",
   "execution_count": 24,
   "metadata": {},
   "outputs": [],
   "source": [
    "Y_test = np.load(r\".\\data\\Y_test.npy\")"
   ]
  },
  {
   "cell_type": "code",
   "execution_count": 25,
   "metadata": {},
   "outputs": [
    {
     "data": {
      "text/html": [
       "<div>\n",
       "<style scoped>\n",
       "    .dataframe tbody tr th:only-of-type {\n",
       "        vertical-align: middle;\n",
       "    }\n",
       "\n",
       "    .dataframe tbody tr th {\n",
       "        vertical-align: top;\n",
       "    }\n",
       "\n",
       "    .dataframe thead th {\n",
       "        text-align: right;\n",
       "    }\n",
       "</style>\n",
       "<table border=\"1\" class=\"dataframe\">\n",
       "  <thead>\n",
       "    <tr style=\"text-align: right;\">\n",
       "      <th>predict</th>\n",
       "      <th>0</th>\n",
       "      <th>1</th>\n",
       "    </tr>\n",
       "    <tr>\n",
       "      <th>label</th>\n",
       "      <th></th>\n",
       "      <th></th>\n",
       "    </tr>\n",
       "  </thead>\n",
       "  <tbody>\n",
       "    <tr>\n",
       "      <th>0</th>\n",
       "      <td>1633</td>\n",
       "      <td>160</td>\n",
       "    </tr>\n",
       "    <tr>\n",
       "      <th>1</th>\n",
       "      <td>62</td>\n",
       "      <td>1727</td>\n",
       "    </tr>\n",
       "  </tbody>\n",
       "</table>\n",
       "</div>"
      ],
      "text/plain": [
       "predict     0     1\n",
       "label              \n",
       "0        1633   160\n",
       "1          62  1727"
      ]
     },
     "execution_count": 25,
     "metadata": {},
     "output_type": "execute_result"
    }
   ],
   "source": [
    "pd.crosstab(Y_test,prediction,\n",
    "            rownames=['label'],colnames=['predict'])"
   ]
  },
  {
   "cell_type": "code",
   "execution_count": 26,
   "metadata": {},
   "outputs": [],
   "source": [
    "predicted_Probaility = model.predict(X_test4D)"
   ]
  },
  {
   "cell_type": "code",
   "execution_count": 27,
   "metadata": {},
   "outputs": [
    {
     "data": {
      "image/png": "[encoded data removed]",
      "text/plain": [
       "<Figure size 432x288 with 1 Axes>"
      ]
     },
     "metadata": {
      "needs_background": "light"
     },
     "output_type": "display_data"
    }
   ],
   "source": [
    "X,Y = [], []\n",
    "for i in range(len(predicted_Probaility)):\n",
    "    X.append(i+1)\n",
    "    Y.append(predicted_Probaility[i][1])\n",
    "fig = plt.figure()\n",
    "plt.scatter(X, Y, alpha=0.1)\n",
    "plt.ylim((0, 1))\n",
    "plt.ylabel('Probaility')\n",
    "plt.title('Predicted Probailitys of test data')\n",
    "plt.show()"
   ]
  },
  {
   "cell_type": "markdown",
   "metadata": {},
   "source": [
    "# 保存模型"
   ]
  },
  {
   "cell_type": "code",
   "execution_count": 28,
   "metadata": {},
   "outputs": [],
   "source": [
    "model.save(r'./model/toy.h5')"
   ]
  },
  {
   "cell_type": "code",
   "execution_count": null,
   "metadata": {},
   "outputs": [],
   "source": []
  }
 ],
 "metadata": {
  "kernelspec": {
   "display_name": "keras",
   "language": "python",
   "name": "keras"
  },
  "language_info": {
   "codemirror_mode": {
    "name": "ipython",
    "version": 3
   },
   "file_extension": ".py",
   "mimetype": "text/x-python",
   "name": "python",
   "nbconvert_exporter": "python",
   "pygments_lexer": "ipython3",
   "version": "3.6.6"
  }
 },
 "nbformat": 4,
 "nbformat_minor": 2
}
